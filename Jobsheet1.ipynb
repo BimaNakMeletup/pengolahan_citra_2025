{
  "nbformat": 4,
  "nbformat_minor": 0,
  "metadata": {
    "colab": {
      "provenance": [],
      "authorship_tag": "ABX9TyOB4Q4Fp54xqp4HRsi9GIw2",
      "include_colab_link": true
    },
    "kernelspec": {
      "name": "python3",
      "display_name": "Python 3"
    },
    "language_info": {
      "name": "python"
    }
  },
  "cells": [
    {
      "cell_type": "markdown",
      "metadata": {
        "id": "view-in-github",
        "colab_type": "text"
      },
      "source": [
        "<a href=\"https://colab.research.google.com/github/BimaNakMeletup/pengolahan_citra_2025/blob/main/Jobsheet1.ipynb\" target=\"_parent\"><img src=\"https://colab.research.google.com/assets/colab-badge.svg\" alt=\"Open In Colab\"/></a>"
      ]
    },
    {
      "cell_type": "markdown",
      "source": [
        "# Jobsheet 1 Dasar Berkas Gambar (citra)\n"
      ],
      "metadata": {
        "id": "FfFt1MyEyu0e"
      }
    },
    {
      "cell_type": "markdown",
      "source": [
        "## Praktikum 1 Mendefinisikan Istilah bit, byte, kilobyte, megabyte dll pada citra\n"
      ],
      "metadata": {
        "id": "gYxwX2KfzDCY"
      }
    },
    {
      "cell_type": "code",
      "execution_count": null,
      "metadata": {
        "id": "u-soVXPJwIQh"
      },
      "outputs": [],
      "source": []
    }
  ]
}